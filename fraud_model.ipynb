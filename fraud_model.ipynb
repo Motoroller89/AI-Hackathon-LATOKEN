{
  "cells": [
    {
      "cell_type": "code",
      "execution_count": 97,
      "metadata": {
        "id": "t5Ck3nZhIY8V"
      },
      "outputs": [],
      "source": [
        "import pandas as pd\n",
        "from sklearn.ensemble import RandomForestClassifier\n",
        "from sklearn.preprocessing import LabelEncoder\n",
        "\n",
        "# Load your datasets\n",
        "df_train = pd.read_csv('/content/training_data_percentage.csv')\n",
        "df_test = pd.read_csv('/content/control_data_percentage.csv')\n",
        "\n",
        "def preprocess_data(df):\n",
        "    datetime_cols = ['user_created_at', 'kyc_created_at', 'deposit_created_at']\n",
        "    for col in datetime_cols:\n",
        "        df[col] = pd.to_datetime(df[col])\n",
        "        df[col+'_year'] = df[col].dt.year\n",
        "        df[col+'_month'] = df[col].dt.month\n",
        "        df[col+'_day'] = df[col].dt.day\n",
        "        df[col+'_hour'] = df[col].dt.hour\n",
        "        df[col+'_minute'] = df[col].dt.minute\n",
        "        df[col+'_second'] = df[col].dt.second\n",
        "        df = df.drop(col, axis=1)\n",
        "\n",
        "    df['deposit_ip'] = df['deposit_ip'].apply(lambda x: x.split(':')[1].split(',')[0].replace('\"', ''))\n",
        "    df['deposit_language'] = df['deposit_language'].apply(lambda x: x.split(',')[0])\n",
        "\n",
        "    df['deposit_amount'] = pd.to_numeric(df['deposit_amount'], errors='coerce')\n",
        "    df['deposit_amount'].fillna(df['deposit_amount'].median(), inplace=True)\n",
        "    df.fillna('Unknown', inplace=True)\n",
        "\n",
        "    return df\n",
        "\n",
        "\n",
        "df_train = preprocess_data(df_train)\n",
        "df_test = preprocess_data(df_test)\n",
        "\n",
        "df_train = df_train.drop(['deposit_card_country','deposit_fraud', 'deposit_disputed'], axis = 1)\n",
        "df_test= df_test.drop(['deposit_card_country','deposit_fraud', 'deposit_disputed'], axis = 1)\n",
        "\n",
        "target = 'fraudulent'\n",
        "\n",
        "X_train = df_train.drop([target, 'user_id', 'deposit_id'], axis=1)\n",
        "y_train = df_train[target]\n",
        "X_test = df_test.drop([target, 'user_id', 'deposit_id'], axis=1)\n",
        "\n",
        "\n",
        "encoder = LabelEncoder()\n",
        "\n",
        "categorical_cols = ['user_country_code', 'kyc_citizenship', 'kyc_permanentcountry',\n",
        "                    'deposit_currency', 'deposit_email',\n",
        "                    'deposit_device', 'deposit_language', 'deposit_status',\n",
        "                    'deposit_failure_message', 'deposit_ip']\n",
        "\n",
        "for col in categorical_cols:\n",
        "    X_train[col] = X_train[col].astype(str)\n",
        "    X_test[col] = X_test[col].astype(str)\n",
        "    encoder.fit(pd.concat([X_train[col], X_test[col]]))\n",
        "    X_train[col] = encoder.transform(X_train[col])\n",
        "    X_test[col] = encoder.transform(X_test[col])\n",
        "\n",
        "numerical_cols = ['user_created_at_year', 'user_created_at_month', 'user_created_at_day',\n",
        "                  'user_created_at_hour', 'user_created_at_minute', 'user_created_at_second',\n",
        "                  'kyc_created_at_year', 'kyc_created_at_month', 'kyc_created_at_day',\n",
        "                  'kyc_created_at_hour', 'kyc_created_at_minute', 'kyc_created_at_second',\n",
        "                  'deposit_created_at_year', 'deposit_created_at_month', 'deposit_created_at_day',\n",
        "                  'deposit_created_at_hour', 'deposit_created_at_minute', 'deposit_created_at_second',\n",
        "                  'deposit_amount']\n",
        "\n",
        "for col in numerical_cols:\n",
        "    X_train[col] = pd.to_numeric(X_train[col], errors='coerce')\n",
        "    X_train[col].fillna(X_train[col].median(), inplace=True)\n",
        "\n",
        "    X_test[col] = pd.to_numeric(X_test[col], errors='coerce')\n",
        "    X_test[col].fillna(X_test[col].median(), inplace=True)\n",
        "\n",
        "# Since 'fraudulent' is a binary variable, it can be directly converted to integers\n",
        "y_train = y_train.replace({'True': 1, 'False': 0}).astype(int)\n",
        "\n",
        "classifier = RandomForestClassifier(n_estimators = 100, random_state = 0)\n",
        "classifier.fit(X_train, y_train)\n",
        "\n",
        "y_pred = classifier.predict(X_test)\n",
        "\n"
      ]
    },
    {
      "cell_type": "code",
      "execution_count": 98,
      "metadata": {
        "colab": {
          "base_uri": "https://localhost:8080/"
        },
        "id": "gVSlJZ0edHG9",
        "outputId": "9974751a-a5af-4ad2-8e21-d3949a0574ba"
      },
      "outputs": [
        {
          "data": {
            "text/plain": [
              "array([0, 1, 0, ..., 0, 0, 0])"
            ]
          },
          "execution_count": 98,
          "metadata": {},
          "output_type": "execute_result"
        }
      ],
      "source": [
        "y_pred"
      ]
    },
    {
      "cell_type": "code",
      "execution_count": 99,
      "metadata": {
        "id": "7rji9bJXpEqI"
      },
      "outputs": [],
      "source": [
        "y_pred = y_pred.astype(bool)\n",
        "\n",
        "# Create a DataFrame containing the user_id and predicted 'fraudulent' values\n",
        "result_df = pd.DataFrame({'user_id': df_test['user_id'], 'fraudulent': y_pred})\n",
        "\n",
        "# Save the DataFrame to a CSV file\n",
        "result_df.to_csv('predicted_fraudulent.csv', index=False)"
      ]
    },
    {
      "cell_type": "code",
      "execution_count": 100,
      "metadata": {
        "colab": {
          "base_uri": "https://localhost:8080/"
        },
        "id": "XcTwttOWV8jz",
        "outputId": "809e629b-da9a-4f79-f53d-999727c96358"
      },
      "outputs": [
        {
          "data": {
            "text/plain": [
              "['label_encoder.joblib']"
            ]
          },
          "execution_count": 100,
          "metadata": {},
          "output_type": "execute_result"
        }
      ],
      "source": [
        "from joblib import dump, load\n",
        "\n",
        "# Save the model to a file\n",
        "dump(classifier, 'fraud.joblib')\n",
        "\n",
        "# Save the LabelEncoder\n",
        "dump(le, 'label_encoder.joblib')"
      ]
    },
    {
      "cell_type": "code",
      "execution_count": null,
      "metadata": {
        "id": "oskuCsdhhuas"
      },
      "outputs": [],
      "source": []
    },
    {
      "cell_type": "code",
      "execution_count": 105,
      "metadata": {
        "colab": {
          "base_uri": "https://localhost:8080/",
          "height": 564
        },
        "id": "oB0-MNx7XsCC",
        "outputId": "8ce85f72-0c99-4459-fcbd-351fd260515a"
      },
      "outputs": [
        {
          "data": {
            "image/png": "[encoded data removed]",
            "text/plain": [
              "<Figure size 800x600 with 1 Axes>"
            ]
          },
          "metadata": {},
          "output_type": "display_data"
        }
      ],
      "source": [
        "import pandas as pd\n",
        "from sklearn.metrics import confusion_matrix\n",
        "import matplotlib.pyplot as plt\n",
        "import seaborn as sns\n",
        "\n",
        "\n",
        "# Step 1: Load data from CSV files\n",
        "df1 = pd.read_csv('/content/output.csv')\n",
        "df2 = pd.read_csv('/content/predicted_fraudulent.csv')\n",
        "\n",
        "y_true = df1['fraudulent'].values\n",
        "y_pred = df2['fraudulent'].values\n",
        "\n",
        "# Step 4: Calculate the confusion matrix\n",
        "conf_matrix = confusion_matrix(y_true, y_pred)\n",
        "\n",
        "# Step 5: Plot the confusion matrix as a heatmap\n",
        "plt.figure(figsize=(8, 6))\n",
        "sns.heatmap(conf_matrix, annot=True, fmt='d', cmap='Blues', cbar=False,\n",
        "            xticklabels=['Non-Fraudulent', 'Fraudulent'],\n",
        "            yticklabels=['Non-Fraudulent', 'Fraudulent'])\n",
        "plt.xlabel('Predicted Label')\n",
        "plt.ylabel('True Label')\n",
        "plt.title('Confusion Matrix')\n",
        "plt.show()"
      ]
    }
  ],
  "metadata": {
    "colab": {
      "provenance": []
    },
    "kernelspec": {
      "display_name": "Python 3",
      "name": "python3"
    },
    "language_info": {
      "name": "python"
    }
  },
  "nbformat": 4,
  "nbformat_minor": 0
}
